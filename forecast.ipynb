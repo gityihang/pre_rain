{
 "cells": [
  {
   "cell_type": "code",
   "execution_count": 42,
   "metadata": {},
   "outputs": [],
   "source": [
    "import torch\n",
    "\n",
    "import torch.optim as optim\n",
    "import torch.nn as nn\n",
    "import pandas as pd\n",
    "import matplotlib.pyplot as plt"
   ]
  },
  {
   "cell_type": "code",
   "execution_count": 7,
   "metadata": {},
   "outputs": [
    {
     "name": "stdout",
     "output_type": "stream",
     "text": [
      "   站名    区站号       纬度        经度    测站高度     年  月  日   时  温度/气温  露点温度  相对湿度  \\\n",
      "0  上杭  58918  25.0500  116.4167   198.0  2020  9  1   0   26.4  23.9    86   \n",
      "1  株洲  57780  27.8689  113.1736    74.6  2020  9  1  16   28.1  20.4    63   \n",
      "2  崇阳  57586  29.5400  114.0386    78.5  2020  9  1   4   32.1  20.4    50   \n",
      "3  马关  56995  23.0186  104.3992  1332.9  2020  9  1  14   22.1  19.8    87   \n",
      "4  普宁  59314  23.3983  116.1964    69.0  2020  9  1  13   28.3  26.4    90   \n",
      "\n",
      "   降水量  瞬时风向  瞬时风速  地面温度  \n",
      "0  0.0   312   1.6  30.9  \n",
      "1  0.0   318   2.4  25.9  \n",
      "2  0.0    25   5.1  54.3  \n",
      "3  0.0    18   0.6  21.1  \n",
      "4  0.0    24   2.1  28.1  \n"
     ]
    },
    {
     "data": {
      "text/plain": [
       "(18024, 16)"
      ]
     },
     "execution_count": 7,
     "metadata": {},
     "output_type": "execute_result"
    }
   ],
   "source": [
    "# 读取excel文件\n",
    "data = pd.read_excel('data/pre_20200901.xlsx')\n",
    "\n",
    "#打乱数据所在的行\n",
    "data = data.sample(frac=1).reset_index(drop=True)\n",
    "\n",
    "# 查看前5行数据\n",
    "print(data.head(5))\n",
    "\n",
    "data.shape\n"
   ]
  },
  {
   "cell_type": "code",
   "execution_count": 8,
   "metadata": {},
   "outputs": [
    {
     "data": {
      "text/plain": [
       "(18024, 15)"
      ]
     },
     "execution_count": 8,
     "metadata": {},
     "output_type": "execute_result"
    }
   ],
   "source": [
    "# 删除前两列无关信息\n",
    "data=data.drop(data.columns[0], axis=1)\n",
    "data.shape\n"
   ]
  },
  {
   "cell_type": "code",
   "execution_count": 9,
   "metadata": {},
   "outputs": [
    {
     "name": "stdout",
     "output_type": "stream",
     "text": [
      "     区站号       纬度        经度    测站高度     年  月  日   时  温度/气温  露点温度  相对湿度  降水量  \\\n",
      "0  58918  25.0500  116.4167   198.0  2020  9  1   0   26.4  23.9    86  0.0   \n",
      "1  57780  27.8689  113.1736    74.6  2020  9  1  16   28.1  20.4    63  0.0   \n",
      "2  57586  29.5400  114.0386    78.5  2020  9  1   4   32.1  20.4    50  0.0   \n",
      "3  56995  23.0186  104.3992  1332.9  2020  9  1  14   22.1  19.8    87  0.0   \n",
      "4  59314  23.3983  116.1964    69.0  2020  9  1  13   28.3  26.4    90  0.0   \n",
      "\n",
      "   瞬时风向  瞬时风速  地面温度  \n",
      "0   312   1.6  30.9  \n",
      "1   318   2.4  25.9  \n",
      "2    25   5.1  54.3  \n",
      "3    18   0.6  21.1  \n",
      "4    24   2.1  28.1  \n"
     ]
    }
   ],
   "source": [
    "print(data.head(5))"
   ]
  },
  {
   "cell_type": "code",
   "execution_count": 10,
   "metadata": {},
   "outputs": [],
   "source": [
    "# 定义神经网络模型\n",
    "class MyModel(nn.Module):\n",
    "    def __init__(self):\n",
    "        super(MyModel, self).__init__()\n",
    "        self.fc1 = nn.Linear(14, 64)  # 输入层到隐藏层\n",
    "        #self.fc2 = nn.Linear(256*2, 128*2)  # 隐藏层到隐藏层\n",
    "        self.fc3 = nn.Linear(64 , 1)   # 隐藏层到输出层\n",
    "        self.relu = nn.ReLU()          # 激活函数\n",
    "\n",
    "    def forward(self, x):\n",
    "        x = self.relu(self.fc1(x))\n",
    "        #x = self.relu(self.fc2(x))\n",
    "        x = self.fc3(x)\n",
    "        return x"
   ]
  },
  {
   "cell_type": "code",
   "execution_count": 11,
   "metadata": {},
   "outputs": [
    {
     "name": "stdout",
     "output_type": "stream",
     "text": [
      "MyModel(\n",
      "  (fc1): Linear(in_features=14, out_features=64, bias=True)\n",
      "  (fc3): Linear(in_features=64, out_features=1, bias=True)\n",
      "  (relu): ReLU()\n",
      ")\n"
     ]
    }
   ],
   "source": [
    "#查看网络结构\n",
    "model = MyModel()\n",
    "print(model)"
   ]
  },
  {
   "cell_type": "code",
   "execution_count": 44,
   "metadata": {},
   "outputs": [],
   "source": [
    "inputs= data.drop(columns='降水量').values\n",
    "outputs =   data.iloc[:,11].values"
   ]
  },
  {
   "cell_type": "code",
   "execution_count": 45,
   "metadata": {},
   "outputs": [
    {
     "name": "stdout",
     "output_type": "stream",
     "text": [
      "(18024, 14) (18024,)\n"
     ]
    }
   ],
   "source": [
    "print(inputs.shape,outputs.shape)"
   ]
  },
  {
   "cell_type": "code",
   "execution_count": 46,
   "metadata": {},
   "outputs": [],
   "source": [
    "# 转换为PyTorch张量\n",
    "inputs = torch.Tensor(inputs)\n",
    "outputs = torch.Tensor(outputs)"
   ]
  },
  {
   "cell_type": "code",
   "execution_count": 47,
   "metadata": {},
   "outputs": [],
   "source": [
    "# 划分训练集和测试集（示例中为90%训练集，10%测试集）\n",
    "train_size = int(0.8 * len(data))\n",
    "train_inputs, train_outputs = inputs[:train_size], outputs[:train_size]\n",
    "test_inputs, test_outputs = inputs[train_size:], outputs[train_size:]"
   ]
  },
  {
   "cell_type": "code",
   "execution_count": 50,
   "metadata": {},
   "outputs": [
    {
     "name": "stdout",
     "output_type": "stream",
     "text": [
      "Fold 1/5, Epoch 100/500, Loss: 27.88800811767578\n",
      "Fold 1/5, Epoch 200/500, Loss: 4.784046173095703\n",
      "Fold 1/5, Epoch 300/500, Loss: 3.163186550140381\n",
      "Fold 1/5, Epoch 400/500, Loss: 0.03557095304131508\n",
      "Fold 1/5, Epoch 500/500, Loss: 0.02216390334069729\n",
      "Fold 1/5, Validation Loss: 4.762749671936035\n",
      "Fold 2/5, Epoch 100/500, Loss: 20.27385139465332\n",
      "Fold 2/5, Epoch 200/500, Loss: 2.080676676996518e-05\n",
      "Fold 2/5, Epoch 300/500, Loss: 2.9551065381383523e-05\n",
      "Fold 2/5, Epoch 400/500, Loss: 0.026668667793273926\n",
      "Fold 2/5, Epoch 500/500, Loss: 2.405750487710634e-09\n",
      "Fold 2/5, Validation Loss: 0.06281737238168716\n",
      "Fold 3/5, Epoch 100/500, Loss: 29.618173599243164\n",
      "Fold 3/5, Epoch 200/500, Loss: 11.792037963867188\n",
      "Fold 3/5, Epoch 300/500, Loss: 0.12805581092834473\n",
      "Fold 3/5, Epoch 400/500, Loss: 9.19033118407242e-06\n",
      "Fold 3/5, Epoch 500/500, Loss: 6.308046307523796e-10\n",
      "Fold 3/5, Validation Loss: 0.10906264185905457\n",
      "Fold 4/5, Epoch 100/500, Loss: 1.2844860553741455\n",
      "Fold 4/5, Epoch 200/500, Loss: 1.408704161643982\n",
      "Fold 4/5, Epoch 300/500, Loss: 0.24468490481376648\n",
      "Fold 4/5, Epoch 400/500, Loss: 0.23789456486701965\n",
      "Fold 4/5, Epoch 500/500, Loss: 0.03622537851333618\n",
      "Fold 4/5, Validation Loss: 0.11444952338933945\n"
     ]
    },
    {
     "name": "stderr",
     "output_type": "stream",
     "text": [
      "/home/byh/miniconda3/envs/pytorchgpu/lib/python3.7/site-packages/torch/nn/modules/loss.py:101: UserWarning: Using a target size (torch.Size([16])) that is different to the input size (torch.Size([16, 1])). This will likely lead to incorrect results due to broadcasting. Please ensure they have the same size.\n",
      "  return F.l1_loss(input, target, reduction=self.reduction)\n"
     ]
    },
    {
     "name": "stdout",
     "output_type": "stream",
     "text": [
      "Fold 5/5, Epoch 100/500, Loss: 10.513443946838379\n",
      "Fold 5/5, Epoch 200/500, Loss: 0.8783717155456543\n",
      "Fold 5/5, Epoch 300/500, Loss: 0.8941454887390137\n",
      "Fold 5/5, Epoch 400/500, Loss: 0.02343321032822132\n",
      "Fold 5/5, Epoch 500/500, Loss: 0.013977526687085629\n",
      "Fold 5/5, Validation Loss: 0.0921921357512474\n",
      "Test Loss: 0.09238553792238235\n"
     ]
    },
    {
     "name": "stderr",
     "output_type": "stream",
     "text": [
      "/home/byh/miniconda3/envs/pytorchgpu/lib/python3.7/site-packages/torch/nn/modules/loss.py:101: UserWarning: Using a target size (torch.Size([2883])) that is different to the input size (torch.Size([2883, 1])). This will likely lead to incorrect results due to broadcasting. Please ensure they have the same size.\n",
      "  return F.l1_loss(input, target, reduction=self.reduction)\n",
      "/home/byh/miniconda3/envs/pytorchgpu/lib/python3.7/site-packages/torch/nn/modules/loss.py:101: UserWarning: Using a target size (torch.Size([3605])) that is different to the input size (torch.Size([3605, 1])). This will likely lead to incorrect results due to broadcasting. Please ensure they have the same size.\n",
      "  return F.l1_loss(input, target, reduction=self.reduction)\n"
     ]
    }
   ],
   "source": [
    "from sklearn.model_selection import KFold\n",
    "k = 5\n",
    "kf = KFold(n_splits=k)\n",
    "\n",
    "for fold, (train_indices, val_indices) in enumerate(kf.split(train_inputs)):\n",
    "    train_inputs_fold = train_inputs[train_indices]\n",
    "    train_outputs_fold = train_outputs[train_indices]\n",
    "    val_inputs_fold = train_inputs[val_indices]\n",
    "    val_outputs_fold = train_outputs[val_indices]\n",
    "    \n",
    "    num_epochs = 500\n",
    "    batch_size = 32\n",
    "    model = MyModel()\n",
    "    criterion = nn.L1Loss()\n",
    "    optimizer = optim.Adam(model.parameters(), lr=0.001)\n",
    "    scheduler = torch.optim.lr_scheduler.CosineAnnealingLR(optimizer, T_max=num_epochs, eta_min=0)\n",
    "\n",
    "    for epoch in range(num_epochs):\n",
    "        permutation = torch.randperm(train_inputs_fold.size()[0])\n",
    "        for i in range(0, train_inputs_fold.size()[0], batch_size):\n",
    "            indices = permutation[i:i+batch_size]\n",
    "            batch_inputs, batch_outputs = train_inputs_fold[indices], train_outputs_fold[indices]\n",
    "\n",
    "            optimizer.zero_grad()\n",
    "            outputs = model(batch_inputs)\n",
    "            loss = criterion(outputs, batch_outputs)\n",
    "            loss.backward()\n",
    "            optimizer.step()\n",
    "\n",
    "        if (epoch+1) % 100 == 0:\n",
    "            print(f\"Fold {fold+1}/{k}, Epoch {epoch+1}/{num_epochs}, Loss: {loss.item()}\")          \n",
    "        scheduler.step()\n",
    "    # 在验证集上评估模型\n",
    "    model.eval()\n",
    "    with torch.no_grad():\n",
    "        val_outputs_predicted = model(val_inputs_fold)\n",
    "        val_loss = criterion(val_outputs_predicted, val_outputs_fold)\n",
    "        print(f\"Fold {fold+1}/{k}, Validation Loss: {val_loss.item()}\")\n",
    "\n",
    "# 在测试集上评估模型\n",
    "model.eval()\n",
    "with torch.no_grad():\n",
    "    test_outputs_predicted = model(test_inputs)\n",
    "    test_loss = criterion(test_outputs_predicted, test_outputs)\n",
    "    print(f\"Test Loss: {test_loss.item()}\")\n",
    "\n",
    "# 保存模型\n",
    "torch.save(model.state_dict(), \"model1.pth\")"
   ]
  },
  {
   "cell_type": "code",
   "execution_count": null,
   "metadata": {},
   "outputs": [],
   "source": []
  }
 ],
 "metadata": {
  "kernelspec": {
   "display_name": "pytorchgpu",
   "language": "python",
   "name": "python3"
  },
  "language_info": {
   "codemirror_mode": {
    "name": "ipython",
    "version": 3
   },
   "file_extension": ".py",
   "mimetype": "text/x-python",
   "name": "python",
   "nbconvert_exporter": "python",
   "pygments_lexer": "ipython3",
   "version": "3.7.12"
  },
  "orig_nbformat": 4
 },
 "nbformat": 4,
 "nbformat_minor": 2
}
